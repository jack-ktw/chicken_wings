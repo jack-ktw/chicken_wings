{
 "cells": [
  {
   "cell_type": "code",
   "execution_count": 21,
   "metadata": {
    "collapsed": false
   },
   "outputs": [
    {
     "name": "stdout",
     "output_type": "stream",
     "text": [
      "2.7.11 |Continuum Analytics, Inc.| (default, Feb 16 2016, 09:58:36) [MSC v.1500 64 bit (AMD64)]\n"
     ]
    }
   ],
   "source": [
    "import sys\n",
    "print sys.version"
   ]
  },
  {
   "cell_type": "code",
   "execution_count": 22,
   "metadata": {
    "collapsed": false
   },
   "outputs": [],
   "source": [
    "import os"
   ]
  },
  {
   "cell_type": "code",
   "execution_count": 23,
   "metadata": {
    "collapsed": false
   },
   "outputs": [
    {
     "name": "stdout",
     "output_type": "stream",
     "text": [
      "C:\\Users\\jack_\\Desktop\\overbond_hackathon\\Code\\input\\world 2A\\nodes_world_2A.txt\n",
      "0 Investor\n",
      "\n",
      "1 Issuer\n",
      "\n",
      "2 Investor\n",
      "\n",
      "3 Issuer\n",
      "\n",
      "4 Investor\n",
      "\n",
      "5 Issuer\n",
      "\n",
      "6 Issuer\n",
      "\n",
      "7 Investor\n",
      "\n",
      "8 Issuer\n",
      "\n",
      "9 Investor\n",
      "\n",
      "2000\n"
     ]
    }
   ],
   "source": [
    "world = '2A'\n",
    "node_file_path = os.getcwd() + \"\\\\input\\\\world \" + world + \"\\\\nodes_world_\" + world + \".txt\"\n",
    "node_count = 0\n",
    "\n",
    "print_limit = 10\n",
    "print_index = 0\n",
    "print node_file_path\n",
    "with open(node_file_path, 'r') as node_f:\n",
    "    for line in node_f:\n",
    "        if print_index < print_limit:\n",
    "            print line\n",
    "            print_index += 1\n",
    "        node_count += 1\n",
    "print node_count\n"
   ]
  },
  {
   "cell_type": "code",
   "execution_count": 24,
   "metadata": {
    "collapsed": false,
    "scrolled": true
   },
   "outputs": [
    {
     "name": "stdout",
     "output_type": "stream",
     "text": [
      "C:\\Users\\jack_\\Desktop\\overbond_hackathon\\Code\\input\\world 2A\\nodes_world_2A.txt\n",
      "e 0 1 Overbond\n",
      "\n",
      "e 0 2 Overbond\n",
      "\n",
      "e 0 3 Overbond\n",
      "\n",
      "e 0 4 Overbond\n",
      "\n",
      "e 0 5 Overbond\n",
      "\n",
      "e 0 6 Overbond\n",
      "\n",
      "e 0 7 Overbond\n",
      "\n",
      "e 0 8 Overbond\n",
      "\n",
      "e 0 9 Overbond\n",
      "\n",
      "e 0 10 Overbond\n",
      "\n",
      "1622806\n"
     ]
    }
   ],
   "source": [
    "edge_file_path = os.getcwd() + \"\\\\input\\\\world \" + world + \"\\\\edges_world_\" + world + \".clq\"\n",
    "adjacency_list = [[[], 0] for i in xrange(node_count + 1)]\n",
    "edge_count = 0\n",
    "\n",
    "print_limit = 10\n",
    "print_index = 0\n",
    "print node_file_path\n",
    "\n",
    "prev_node = -1\n",
    "with open(edge_file_path, 'r') as node_f:\n",
    "    for line in node_f:\n",
    "        if print_index < print_limit:\n",
    "            print line\n",
    "            print_index += 1\n",
    "        fields = line.split()\n",
    "        if fields[0] == 'e':\n",
    "            node1 = int(fields[1])\n",
    "            node2 = int(fields[2])\n",
    "            method = fields[3]\n",
    "            adjacency_list[node1][0].append(node2)\n",
    "            adjacency_list[node2][0].append(node1)\n",
    "            adjacency_list[node1][1] += 1\n",
    "            adjacency_list[node2][1] += 1\n",
    "            edge_count += 1\n",
    "print edge_count\n",
    "        "
   ]
  },
  {
   "cell_type": "markdown",
   "metadata": {},
   "source": [
    "print adjacency_list\n",
    "    "
   ]
  },
  {
   "cell_type": "code",
   "execution_count": 25,
   "metadata": {
    "collapsed": false
   },
   "outputs": [],
   "source": [
    "from operator import itemgetter\n",
    "max_degree = max(adjacency_list, key=itemgetter(1))[1]"
   ]
  },
  {
   "cell_type": "code",
   "execution_count": 26,
   "metadata": {
    "collapsed": false
   },
   "outputs": [
    {
     "name": "stdout",
     "output_type": "stream",
     "text": [
      "5833\n"
     ]
    }
   ],
   "source": [
    "D_list = [[] for i in xrange(max_degree + 1)]\n",
    "for index, node in enumerate(adjacency_list):\n",
    "    D_list[node[1]].append(index)\n",
    "print len(D_list)"
   ]
  },
  {
   "cell_type": "code",
   "execution_count": 27,
   "metadata": {
    "collapsed": false,
    "scrolled": false
   },
   "outputs": [],
   "source": [
    "from collections import deque\n",
    "from bisect import bisect_left\n",
    "from pprint import pprint\n",
    "degeneracy_list = deque()\n",
    "k = 0\n",
    "from itertools import takewhile\n",
    "def f(l): return len([x for x in takewhile(lambda x: not x[1], enumerate(l))])\n",
    "for i in xrange(len(adjacency_list)):\n",
    "    nonempty_i = f(D_list)\n",
    "    k = max(k, nonempty_i)\n",
    "    v = D_list[nonempty_i].pop(0)\n",
    "    degeneracy_list.appendleft(v)\n",
    "    adjacency_list[v][1] = -1\n",
    "    \n",
    "    neigbours = adjacency_list[v][0]\n",
    "\n",
    "    for neigbour_index in neigbours:\n",
    "        D_index = adjacency_list[neigbour_index][1]\n",
    "\n",
    "        if D_index > -1:\n",
    "            pop_index = bisect_left(D_list[D_index], neigbour_index)\n",
    "            D_list[D_index].pop(pop_index)\n",
    "            adjacency_list[neigbour_index][1] -= 1\n",
    "            insert_index = bisect_left(D_list[D_index - 1], neigbour_index)\n",
    "            D_list[D_index - 1].insert(insert_index, neigbour_index)"
   ]
  },
  {
   "cell_type": "code",
   "execution_count": 28,
   "metadata": {
    "collapsed": false
   },
   "outputs": [
    {
     "name": "stdout",
     "output_type": "stream",
     "text": [
      "2001\n",
      "2001\n"
     ]
    }
   ],
   "source": [
    "print len(degeneracy_list)\n",
    "print len(set(degeneracy_list))"
   ]
  },
  {
   "cell_type": "markdown",
   "metadata": {},
   "source": [
    "BronKerbosch1(R, P, X):\n",
    "       if P and X are both empty:\n",
    "           report R as a maximal clique\n",
    "       for each vertex v in P:\n",
    "           BronKerbosch1(R ⋃ {v}, P ⋂ N(v), X ⋂ N(v))\n",
    "           P := P \\ {v}\n",
    "           X := X ⋃ {v}"
   ]
  },
  {
   "cell_type": "code",
   "execution_count": null,
   "metadata": {
    "collapsed": true
   },
   "outputs": [],
   "source": []
  },
  {
   "cell_type": "code",
   "execution_count": null,
   "metadata": {
    "collapsed": false
   },
   "outputs": [],
   "source": [
    "def BronKerboshc(R, P, X):\n",
    "    if (not P and not X):\n",
    "        print len(R)\n",
    "    while P:\n",
    "        v = P.pop()\n",
    "        X.add(v)\n",
    "        BronKerboshc(R.union(set([v])), P.intersection(set(adjacency_list[v][0])), X.intersection(set(adjacency_list[v][0])))\n",
    "\n",
    "def getPivot(P, X):\n",
    "    # need to maximize P INTERCEPT N(u)\n",
    "    max_u = max(P.union(X), key=lambda p: len(P.intersection(set(adjacency_list[p][0]))))\n",
    "    return max_u\n",
    "    \n",
    "def BronKerboshcPivot(R, P, X):\n",
    "    if (not P and not X):\n",
    "        print R\n",
    "    u = getPivot(P, X)\n",
    "    nu = set(adjacency_list[u][0])\n",
    "    tmp_P = set()\n",
    "    max_set = set()\n",
    "    while P:\n",
    "        v = P.pop()\n",
    "        if not v in nu:\n",
    "            print \"called:\"\n",
    "            BronKerboshcPivot2(R.union(set([v])), P.union(tmp_P).union(set([v])).intersection(set(adjacency_list[v][0])), X.intersection(set(adjacency_list[v][0])), [0])\n",
    "            if len(r) > len(max_set):\n",
    "                max_set = r\n",
    "            X.add(v)\n",
    "        else:\n",
    "            tmp_P.add(v)\n",
    "\n",
    "def BronKerboshcPivot2(R, P, X, done):\n",
    "    if done[0]:\n",
    "        return\n",
    "    if (not P and not X):\n",
    "        print len(R)\n",
    "        done[0] = 1\n",
    "    u = getPivot(P, X)\n",
    "    nu = set(adjacency_list[u][0])\n",
    "    tmp_P = set()\n",
    "    max_set = set()\n",
    "    while P:\n",
    "        v = P.pop()\n",
    "        if not v in nu:\n",
    "            BronKerboshcPivot2(R.union(set([v])), P.union(tmp_P).union(set([v])).intersection(set(adjacency_list[v][0])), X.intersection(set(adjacency_list[v][0])), done)\n",
    "            if len(r) > len(max_set):\n",
    "                max_set = r\n",
    "            X.add(v)\n",
    "        else:\n",
    "            tmp_P.add(v)\n",
    "\n"
   ]
  },
  {
   "cell_type": "code",
   "execution_count": null,
   "metadata": {
    "collapsed": false
   },
   "outputs": [
    {
     "name": "stdout",
     "output_type": "stream",
     "text": [
      "called:\n"
     ]
    }
   ],
   "source": [
    "import cProfile\n",
    "sys.setrecursionlimit(3000)\n",
    "from itertools import islice\n",
    "i = 0\n",
    "while i < len(degeneracy_list):\n",
    "    v = degeneracy_list[i]\n",
    "    post_set = set(islice(degeneracy_list, i+1, None))\n",
    "    pre_set = set(islice(degeneracy_list, i))\n",
    "    P = set(adjacency_list[v][0]).intersection(post_set)\n",
    "    X = set(adjacency_list[v][0]).intersection(pre_set)\n",
    "    # BronKerboshcPivot(set([v]), P, X)\n",
    "    cProfile.run('BronKerboshcPivot(set([v]), P, X)', \"result\" + str(i))\n",
    "    i += 1"
   ]
  },
  {
   "cell_type": "code",
   "execution_count": 35,
   "metadata": {
    "collapsed": false
   },
   "outputs": [
    {
     "ename": "IOError",
     "evalue": "[Errno 2] No such file or directory: 'C:\\\\Users\\\\jack_\\\\Desktop\\\\overbond_hackathon\\\\Code\\\\reuslt0'",
     "output_type": "error",
     "traceback": [
      "\u001b[1;31m---------------------------------------------------------------------------\u001b[0m",
      "\u001b[1;31mIOError\u001b[0m                                   Traceback (most recent call last)",
      "\u001b[1;32m<ipython-input-35-15164576d46a>\u001b[0m in \u001b[0;36m<module>\u001b[1;34m()\u001b[0m\n\u001b[0;32m      1\u001b[0m \u001b[1;32mimport\u001b[0m \u001b[0mpstats\u001b[0m\u001b[1;33m\u001b[0m\u001b[0m\n\u001b[1;32m----> 2\u001b[1;33m \u001b[0mstat\u001b[0m \u001b[1;33m=\u001b[0m \u001b[0mpstats\u001b[0m\u001b[1;33m.\u001b[0m\u001b[0mStats\u001b[0m\u001b[1;33m(\u001b[0m\u001b[1;34m'C:\\\\Users\\\\jack_\\\\Desktop\\\\overbond_hackathon\\\\Code\\\\reuslt0'\u001b[0m\u001b[1;33m)\u001b[0m\u001b[1;33m\u001b[0m\u001b[0m\n\u001b[0m",
      "\u001b[1;32mC:\\Users\\jack_\\Anaconda3\\envs\\hackathon\\lib\\pstats.pyc\u001b[0m in \u001b[0;36m__init__\u001b[1;34m(self, *args, **kwds)\u001b[0m\n\u001b[0;32m     79\u001b[0m             \u001b[0marg\u001b[0m \u001b[1;33m=\u001b[0m \u001b[0margs\u001b[0m\u001b[1;33m[\u001b[0m\u001b[1;36m0\u001b[0m\u001b[1;33m]\u001b[0m\u001b[1;33m\u001b[0m\u001b[0m\n\u001b[0;32m     80\u001b[0m             \u001b[0margs\u001b[0m \u001b[1;33m=\u001b[0m \u001b[0margs\u001b[0m\u001b[1;33m[\u001b[0m\u001b[1;36m1\u001b[0m\u001b[1;33m:\u001b[0m\u001b[1;33m]\u001b[0m\u001b[1;33m\u001b[0m\u001b[0m\n\u001b[1;32m---> 81\u001b[1;33m         \u001b[0mself\u001b[0m\u001b[1;33m.\u001b[0m\u001b[0minit\u001b[0m\u001b[1;33m(\u001b[0m\u001b[0marg\u001b[0m\u001b[1;33m)\u001b[0m\u001b[1;33m\u001b[0m\u001b[0m\n\u001b[0m\u001b[0;32m     82\u001b[0m         \u001b[0mself\u001b[0m\u001b[1;33m.\u001b[0m\u001b[0madd\u001b[0m\u001b[1;33m(\u001b[0m\u001b[1;33m*\u001b[0m\u001b[0margs\u001b[0m\u001b[1;33m)\u001b[0m\u001b[1;33m\u001b[0m\u001b[0m\n\u001b[0;32m     83\u001b[0m \u001b[1;33m\u001b[0m\u001b[0m\n",
      "\u001b[1;32mC:\\Users\\jack_\\Anaconda3\\envs\\hackathon\\lib\\pstats.pyc\u001b[0m in \u001b[0;36minit\u001b[1;34m(self, arg)\u001b[0m\n\u001b[0;32m     93\u001b[0m         \u001b[0mself\u001b[0m\u001b[1;33m.\u001b[0m\u001b[0mstats\u001b[0m \u001b[1;33m=\u001b[0m \u001b[1;33m{\u001b[0m\u001b[1;33m}\u001b[0m\u001b[1;33m\u001b[0m\u001b[0m\n\u001b[0;32m     94\u001b[0m         \u001b[0mself\u001b[0m\u001b[1;33m.\u001b[0m\u001b[0msort_arg_dict\u001b[0m \u001b[1;33m=\u001b[0m \u001b[1;33m{\u001b[0m\u001b[1;33m}\u001b[0m\u001b[1;33m\u001b[0m\u001b[0m\n\u001b[1;32m---> 95\u001b[1;33m         \u001b[0mself\u001b[0m\u001b[1;33m.\u001b[0m\u001b[0mload_stats\u001b[0m\u001b[1;33m(\u001b[0m\u001b[0marg\u001b[0m\u001b[1;33m)\u001b[0m\u001b[1;33m\u001b[0m\u001b[0m\n\u001b[0m\u001b[0;32m     96\u001b[0m         \u001b[0mtrouble\u001b[0m \u001b[1;33m=\u001b[0m \u001b[1;36m1\u001b[0m\u001b[1;33m\u001b[0m\u001b[0m\n\u001b[0;32m     97\u001b[0m         \u001b[1;32mtry\u001b[0m\u001b[1;33m:\u001b[0m\u001b[1;33m\u001b[0m\u001b[0m\n",
      "\u001b[1;32mC:\\Users\\jack_\\Anaconda3\\envs\\hackathon\\lib\\pstats.pyc\u001b[0m in \u001b[0;36mload_stats\u001b[1;34m(self, arg)\u001b[0m\n\u001b[0;32m    107\u001b[0m         \u001b[1;32mif\u001b[0m \u001b[1;32mnot\u001b[0m \u001b[0marg\u001b[0m\u001b[1;33m:\u001b[0m  \u001b[0mself\u001b[0m\u001b[1;33m.\u001b[0m\u001b[0mstats\u001b[0m \u001b[1;33m=\u001b[0m \u001b[1;33m{\u001b[0m\u001b[1;33m}\u001b[0m\u001b[1;33m\u001b[0m\u001b[0m\n\u001b[0;32m    108\u001b[0m         \u001b[1;32melif\u001b[0m \u001b[0misinstance\u001b[0m\u001b[1;33m(\u001b[0m\u001b[0marg\u001b[0m\u001b[1;33m,\u001b[0m \u001b[0mbasestring\u001b[0m\u001b[1;33m)\u001b[0m\u001b[1;33m:\u001b[0m\u001b[1;33m\u001b[0m\u001b[0m\n\u001b[1;32m--> 109\u001b[1;33m             \u001b[0mf\u001b[0m \u001b[1;33m=\u001b[0m \u001b[0mopen\u001b[0m\u001b[1;33m(\u001b[0m\u001b[0marg\u001b[0m\u001b[1;33m,\u001b[0m \u001b[1;34m'rb'\u001b[0m\u001b[1;33m)\u001b[0m\u001b[1;33m\u001b[0m\u001b[0m\n\u001b[0m\u001b[0;32m    110\u001b[0m             \u001b[0mself\u001b[0m\u001b[1;33m.\u001b[0m\u001b[0mstats\u001b[0m \u001b[1;33m=\u001b[0m \u001b[0mmarshal\u001b[0m\u001b[1;33m.\u001b[0m\u001b[0mload\u001b[0m\u001b[1;33m(\u001b[0m\u001b[0mf\u001b[0m\u001b[1;33m)\u001b[0m\u001b[1;33m\u001b[0m\u001b[0m\n\u001b[0;32m    111\u001b[0m             \u001b[0mf\u001b[0m\u001b[1;33m.\u001b[0m\u001b[0mclose\u001b[0m\u001b[1;33m(\u001b[0m\u001b[1;33m)\u001b[0m\u001b[1;33m\u001b[0m\u001b[0m\n",
      "\u001b[1;31mIOError\u001b[0m: [Errno 2] No such file or directory: 'C:\\\\Users\\\\jack_\\\\Desktop\\\\overbond_hackathon\\\\Code\\\\reuslt0'"
     ]
    }
   ],
   "source": [
    "import pstats\n",
    "path = edge_file_path = os.getcwd() + \"\\\\result0\"\n",
    "stat = pstats.Stats(path)\n"
   ]
  },
  {
   "cell_type": "code",
   "execution_count": null,
   "metadata": {
    "collapsed": false,
    "scrolled": true
   },
   "outputs": [],
   "source": [
    "import sys\n",
    "\n",
    "# cProfile.run('BronKerboshcPivot(set(), set(degeneracy_list), set())')"
   ]
  },
  {
   "cell_type": "code",
   "execution_count": null,
   "metadata": {
    "collapsed": false
   },
   "outputs": [],
   "source": [
    "# cProfile.run('BronKerboshc(set(), set(degeneracy_list), set())')"
   ]
  },
  {
   "cell_type": "code",
   "execution_count": null,
   "metadata": {
    "collapsed": false
   },
   "outputs": [],
   "source": []
  },
  {
   "cell_type": "code",
   "execution_count": null,
   "metadata": {
    "collapsed": true
   },
   "outputs": [],
   "source": []
  }
 ],
 "metadata": {
  "kernelspec": {
   "display_name": "Python 2",
   "language": "python",
   "name": "python2"
  },
  "language_info": {
   "codemirror_mode": {
    "name": "ipython",
    "version": 2
   },
   "file_extension": ".py",
   "mimetype": "text/x-python",
   "name": "python",
   "nbconvert_exporter": "python",
   "pygments_lexer": "ipython2",
   "version": "2.7.11"
  }
 },
 "nbformat": 4,
 "nbformat_minor": 0
}
